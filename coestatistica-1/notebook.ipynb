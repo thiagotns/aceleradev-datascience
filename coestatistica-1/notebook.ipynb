{
 "nbformat": 4,
 "nbformat_minor": 2,
 "metadata": {
  "language_info": {
   "name": "python",
   "codemirror_mode": {
    "name": "ipython",
    "version": 3
   },
   "version": "3.6.9-final"
  },
  "orig_nbformat": 2,
  "file_extension": ".py",
  "mimetype": "text/x-python",
  "name": "python",
  "npconvert_exporter": "python",
  "pygments_lexer": "ipython3",
  "version": 3,
  "kernelspec": {
   "name": "python36964bitvenvvenvd583ad3315474a5eb1c32b8d177dc657",
   "display_name": "Python 3.6.9 64-bit ('venv': venv)"
  }
 },
 "cells": [
  {
   "cell_type": "code",
   "execution_count": 1,
   "metadata": {},
   "outputs": [],
   "source": [
    "import pandas as pd"
   ]
  },
  {
   "cell_type": "code",
   "execution_count": 2,
   "metadata": {},
   "outputs": [],
   "source": [
    "df = pd.read_csv(\"desafio1.csv\")"
   ]
  },
  {
   "cell_type": "code",
   "execution_count": 3,
   "metadata": {},
   "outputs": [],
   "source": [
    "estados = df['estado_residencia'].unique()\n",
    "cols = ['moda', 'mediana', 'media', 'desvio_padrao']"
   ]
  },
  {
   "cell_type": "code",
   "execution_count": 4,
   "metadata": {},
   "outputs": [],
   "source": [
    "df_result = pd.DataFrame(index=estados, columns=cols)"
   ]
  },
  {
   "cell_type": "code",
   "execution_count": 5,
   "metadata": {},
   "outputs": [],
   "source": [
    "df_media = df.groupby('estado_residencia')['pontuacao_credito'].mean()\n",
    "df_mediana = df.groupby('estado_residencia')['pontuacao_credito'].median()\n",
    "\n",
    "df_result['media'] = df_media\n",
    "df_result['mediana'] = df_mediana"
   ]
  },
  {
   "cell_type": "code",
   "execution_count": 40,
   "metadata": {},
   "outputs": [],
   "source": [
    "for e in df_result.index:\n",
    "\n",
    "    moda = df[df['estado_residencia'] == e]['pontuacao_credito'].mode().values[0].astype(float)\n",
    "    desvio = df[df['estado_residencia'] == e]['pontuacao_credito'].std().round(1)\n",
    "\n",
    "\n",
    "    df_result.at[e, 'moda'] = moda\n",
    "    df_result.at[e, 'desvio_padrao'] = desvio\n",
    ""
   ]
  },
  {
   "cell_type": "code",
   "execution_count": 41,
   "metadata": {},
   "outputs": [],
   "source": [
    "df_result = df_result.round(1)"
   ]
  },
  {
   "cell_type": "code",
   "execution_count": 42,
   "metadata": {},
   "outputs": [
    {
     "output_type": "execute_result",
     "data": {
      "text/plain": "   moda  mediana  media desvio_padrao\nSC  850      653  649.5          97.2\nRS  850      650  651.1          95.1\nPR  850      650  649.0          98.6",
      "text/html": "<div>\n<style scoped>\n    .dataframe tbody tr th:only-of-type {\n        vertical-align: middle;\n    }\n\n    .dataframe tbody tr th {\n        vertical-align: top;\n    }\n\n    .dataframe thead th {\n        text-align: right;\n    }\n</style>\n<table border=\"1\" class=\"dataframe\">\n  <thead>\n    <tr style=\"text-align: right;\">\n      <th></th>\n      <th>moda</th>\n      <th>mediana</th>\n      <th>media</th>\n      <th>desvio_padrao</th>\n    </tr>\n  </thead>\n  <tbody>\n    <tr>\n      <th>SC</th>\n      <td>850</td>\n      <td>653</td>\n      <td>649.5</td>\n      <td>97.2</td>\n    </tr>\n    <tr>\n      <th>RS</th>\n      <td>850</td>\n      <td>650</td>\n      <td>651.1</td>\n      <td>95.1</td>\n    </tr>\n    <tr>\n      <th>PR</th>\n      <td>850</td>\n      <td>650</td>\n      <td>649.0</td>\n      <td>98.6</td>\n    </tr>\n  </tbody>\n</table>\n</div>"
     },
     "metadata": {},
     "execution_count": 42
    }
   ],
   "source": [
    "df_result"
   ]
  },
  {
   "cell_type": "code",
   "execution_count": 39,
   "metadata": {},
   "outputs": [
    {
     "output_type": "execute_result",
     "data": {
      "text/plain": "SC    850.0\nRS    850.0\nPR    850.0\nName: moda, dtype: float64"
     },
     "metadata": {},
     "execution_count": 39
    }
   ],
   "source": [
    "df_result['moda'].astype(float)"
   ]
  }
 ]
}